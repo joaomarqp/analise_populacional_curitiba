{
 "cells": [
  {
   "cell_type": "code",
   "execution_count": 1,
   "metadata": {},
   "outputs": [
    {
     "name": "stderr",
     "output_type": "stream",
     "text": [
      "Downloading: 100%|██████████| 4161668/4161668 [04:25<00:00, 15691.25rows/s]\n"
     ]
    }
   ],
   "source": [
    "import pandas as pd\n",
    "import basedosdados as bd\n",
    "import matplotlib.pyplot as plt\n",
    "import seaborn as sns\n",
    "import glob\n",
    "from PIL import Image\n",
    "\n",
    "\n",
    "br_ms_populacao = bd.read_table(dataset_id='br_ms_populacao',\n",
    "table_id='municipio',\n",
    "billing_project_id=\"opportunity-analysis-371301\")"
   ]
  },
  {
   "cell_type": "code",
   "execution_count": 31,
   "metadata": {},
   "outputs": [],
   "source": [
    "brazils_municipalities = pd.read_excel('RELATORIO_DTB_BRASIL_MUNICIPIO.ods')\n",
    "brazils_municipalities_id = brazils_municipalities[['Código Município Completo', 'Nome_Município']]\n",
    "brazils_municipalities_id[\"Código Município Completo\"] = brazils_municipalities_id[\"Código Município Completo\"].astype(str)"
   ]
  },
  {
   "cell_type": "code",
   "execution_count": 32,
   "metadata": {},
   "outputs": [],
   "source": [
    "br_ms_populacao2 = brazils_municipalities_id.set_index('Código Município Completo').join(br_ms_populacao.set_index('id_municipio'), how='left')"
   ]
  },
  {
   "cell_type": "code",
   "execution_count": 33,
   "metadata": {},
   "outputs": [],
   "source": [
    "curitiba_populacao = br_ms_populacao2[br_ms_populacao2['Nome_Município'] == 'Curitiba']\n",
    "\n",
    "curitiba_populacao['grupo_idade'] = [i.replace(' anos','').replace('mais','').replace('-','_')for i in curitiba_populacao['grupo_idade']]\n",
    "curitiba_populacao['grupo_idade'] = curitiba_populacao['grupo_idade'].replace('5_9','05_9').replace('0_4','00_4')"
   ]
  },
  {
   "cell_type": "code",
   "execution_count": 34,
   "metadata": {},
   "outputs": [],
   "source": [
    "curitiba_populacao['data'] = [f'01/01/{ano}' for ano in curitiba_populacao['ano']]\n",
    "\n",
    "curitiba_populacao = curitiba_populacao[['ano', 'data', 'sexo', 'grupo_idade', 'populacao']]"
   ]
  },
  {
   "cell_type": "code",
   "execution_count": 35,
   "metadata": {},
   "outputs": [],
   "source": [
    "from sheets import clear_values, update_values\n",
    "\n",
    "clear_values('1X-UHp5EjjT61fwuuouZy5htHUKj-OL5w9AxdfNq2jMo','População!A:D')\n",
    "\n",
    "header = [['ANO','DATA','SEXO','GRUPO IDADE','POPULAÇÃO']]\n",
    "\n",
    "update_values('1X-UHp5EjjT61fwuuouZy5htHUKj-OL5w9AxdfNq2jMo','População!A1',header)\n",
    "update_values('1X-UHp5EjjT61fwuuouZy5htHUKj-OL5w9AxdfNq2jMo','População!A2',curitiba_populacao.values.tolist())"
   ]
  }
 ],
 "metadata": {
  "kernelspec": {
   "display_name": "Python 3",
   "language": "python",
   "name": "python3"
  },
  "language_info": {
   "codemirror_mode": {
    "name": "ipython",
    "version": 3
   },
   "file_extension": ".py",
   "mimetype": "text/x-python",
   "name": "python",
   "nbconvert_exporter": "python",
   "pygments_lexer": "ipython3",
   "version": "3.8.10"
  },
  "orig_nbformat": 4,
  "vscode": {
   "interpreter": {
    "hash": "b4936a83f234bafc9e123db22b9015cde85be5b3b7039eed1b281340c4eec067"
   }
  }
 },
 "nbformat": 4,
 "nbformat_minor": 2
}
