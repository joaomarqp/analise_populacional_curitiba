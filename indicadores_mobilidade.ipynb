{
 "cells": [
  {
   "cell_type": "code",
   "execution_count": 12,
   "metadata": {},
   "outputs": [
    {
     "name": "stderr",
     "output_type": "stream",
     "text": [
      "Downloading: 100%|██████████| 229/229 [00:00<00:00, 771.16rows/s]\n"
     ]
    }
   ],
   "source": [
    "import json\n",
    "import basedosdados as bd\n",
    "import pandas as pd\n",
    "\n",
    "from sheets import clear_values, update_values\n",
    "\n",
    "with open(\"billing_project_id.json\", \"r\") as json_file:\n",
    "    billing_project_id = json.load(json_file)\n",
    "billing_project_id = billing_project_id['billing_project_id']\n",
    "\n",
    "br_mobilidados_indicadores = bd.read_table(dataset_id='br_mobilidados_indicadores',\n",
    "table_id='tempo_deslocamento_casa_trabalho', billing_project_id=billing_project_id)"
   ]
  },
  {
   "cell_type": "code",
   "execution_count": 13,
   "metadata": {},
   "outputs": [],
   "source": [
    "brazils_municipalities = pd.read_excel('RELATORIO_DTB_BRASIL_MUNICIPIO.ods')\n",
    "brazils_municipalities_id = brazils_municipalities[['Código Município Completo', 'Nome_Município']]\n",
    "brazils_municipalities_id[\"Código Município Completo\"] = brazils_municipalities_id[\"Código Município Completo\"].astype(str)"
   ]
  },
  {
   "cell_type": "code",
   "execution_count": 14,
   "metadata": {},
   "outputs": [],
   "source": [
    "br_mobilidados_indicadores2 = brazils_municipalities_id.set_index('Código Município Completo').join(br_mobilidados_indicadores.set_index('id_municipio'), how='left')"
   ]
  },
  {
   "cell_type": "code",
   "execution_count": 15,
   "metadata": {},
   "outputs": [],
   "source": [
    "br_mobilidados_indicadores_pr = br_mobilidados_indicadores2[br_mobilidados_indicadores['sigla_uf'] == 'PR']\n",
    "\n",
    "br_mobilidados_indicadores_pr = br_mobilidados_indicadores_pr[['Nome_Município', 'tempo_medio_deslocamento', 'prop_deslocamento_acima_1_hora']]"
   ]
  },
  {
   "cell_type": "code",
   "execution_count": 16,
   "metadata": {},
   "outputs": [],
   "source": [
    "br_mobilidados_indicadores_pr['prop_deslocamento_acima_1_hora'] = [prop/100 for prop in br_mobilidados_indicadores_pr['prop_deslocamento_acima_1_hora']]"
   ]
  },
  {
   "cell_type": "code",
   "execution_count": 17,
   "metadata": {},
   "outputs": [],
   "source": [
    "clear_values('1X-UHp5EjjT61fwuuouZy5htHUKj-OL5w9AxdfNq2jMo','Indicadores de Mobilidade PR 2010!A:C')\n",
    "\n",
    "header = [['MUNICIPIO','TEMPO MEDIO DESLOCAMENTO','PROPORÇÃO DESLOCAMENTO ACIMA 1 HR']]\n",
    "\n",
    "update_values('1X-UHp5EjjT61fwuuouZy5htHUKj-OL5w9AxdfNq2jMo','Indicadores de Mobilidade PR 2010!A1',header)\n",
    "update_values('1X-UHp5EjjT61fwuuouZy5htHUKj-OL5w9AxdfNq2jMo','Indicadores de Mobilidade PR 2010!A2',br_mobilidados_indicadores_pr.values.tolist())"
   ]
  }
 ],
 "metadata": {
  "kernelspec": {
   "display_name": "Python 3",
   "language": "python",
   "name": "python3"
  },
  "language_info": {
   "codemirror_mode": {
    "name": "ipython",
    "version": 3
   },
   "file_extension": ".py",
   "mimetype": "text/x-python",
   "name": "python",
   "nbconvert_exporter": "python",
   "pygments_lexer": "ipython3",
   "version": "3.8.10 (tags/v3.8.10:3d8993a, May  3 2021, 11:48:03) [MSC v.1928 64 bit (AMD64)]"
  },
  "orig_nbformat": 4,
  "vscode": {
   "interpreter": {
    "hash": "b4936a83f234bafc9e123db22b9015cde85be5b3b7039eed1b281340c4eec067"
   }
  }
 },
 "nbformat": 4,
 "nbformat_minor": 2
}
